{
 "cells": [
  {
   "cell_type": "markdown",
   "metadata": {},
   "source": [
    "# Question 1 :\n",
    "\n",
    "\n"
   ]
  },
  {
   "cell_type": "markdown",
   "metadata": {},
   "source": [
    "for this challenge create a bank account class that has two attributes.\n",
    "\n",
    "**ownerName<br>\n",
    "**Balance\n",
    "\n",
    "and two methods\n",
    "\n",
    "**deposit<br>\n",
    "**withdraw\n",
    "\n",
    "As an added requirement ,withdrawal may mot exceed the available balance.\n",
    "Instantiate your class,make  several deposits and withdrawals and test to make sure the account can't be overdrawn."
   ]
  },
  {
   "cell_type": "code",
   "execution_count": 3,
   "metadata": {},
   "outputs": [
    {
     "name": "stdout",
     "output_type": "stream",
     "text": [
      "\n",
      "---WELCOME TO BACK ACCOUNT PROGRAM---\n",
      "\n",
      "Account Holder Name is : SREYA SREE DOKALA\n",
      "\n",
      "Initial Account Balance is : 0\n",
      "Do you want to withdraw or deposit [d,w] : d\n",
      "\n",
      "Enter amount to be Deposited : 200\n",
      "\n",
      "Amount Deposited is : 200.0\n",
      "\n",
      "Net Avaliable balance is :  200.0\n",
      "Do you want to withdraw or deposit again [y/n] : y\n",
      "Do you want to withdraw or deposit [d,w] : w\n",
      "\n",
      "Enter amount to be Withdrawn : 50\n",
      "\n",
      "You have Withdrew : 50.0\n",
      "\n",
      "Net Avaliable balance is :  150.0\n",
      "Do you want to withdraw or deposit again [y/n] : n\n",
      "Thanks!!! for your transactions\n"
     ]
    }
   ],
   "source": [
    "class BankAccount: \n",
    "\n",
    "    def __init__(self): \n",
    "        self.ownerName=\"SREYA SREE DOKALA\"        \n",
    "        self.Balance=0\n",
    "        \n",
    "    def deposit(self):         \n",
    "        Amount=float(input(\"\\nEnter amount to be Deposited : \"))        \n",
    "        self.Balance += Amount         \n",
    "        print(\"\\nAmount Deposited is :\",Amount) \n",
    "  \n",
    "    def withdraw(self):         \n",
    "        Amount = float(input(\"\\nEnter amount to be Withdrawn : \"))         \n",
    "        if self.Balance >= Amount:               \n",
    "            self.Balance -= Amount             \n",
    "            print(\"\\nYou have Withdrew :\", Amount)         \n",
    "        else:         \n",
    "            print(\"\\nInsufficient balance in the account...\") \n",
    "        \n",
    "            \n",
    "\n",
    "print(\"\\n---WELCOME TO BACK ACCOUNT PROGRAM---\")    \n",
    "acc = BankAccount()\n",
    "print(\"\\nAccount Holder Name is :\",acc.ownerName)    \n",
    "print(\"\\nInitial Account Balance is :\",acc.Balance)\n",
    "\n",
    "\n",
    "while True:\n",
    "    choice=input(\"Do you want to withdraw or deposit [d,w] : \").lower()\n",
    "    while choice not in ['d','w']:\n",
    "        choice=str(input(\"Enter d or w only : \"))\n",
    "    if choice=='d':\n",
    "        acc.deposit();\n",
    "    else:\n",
    "        acc.withdraw();\n",
    "    print(\"\\nNet Avaliable balance is : \",acc.Balance)\n",
    "    c=input(\"Do you want to withdraw or deposit again [y/n] : \").lower()\n",
    "    while c not in ['y','n']:\n",
    "        c=str(input(\"Enter y or n only : \"))\n",
    "    if c=='y':\n",
    "        continue\n",
    "    else:\n",
    "        print(\"Thanks!!! for your transactions\")\n",
    "        break"
   ]
  },
  {
   "cell_type": "markdown",
   "metadata": {},
   "source": [
    "# Question 2:\n"
   ]
  },
  {
   "cell_type": "markdown",
   "metadata": {},
   "source": [
    "For this challenge, create a cone class that has two attributes:\n",
    "** R=Radius<br>\n",
    "** h=Height\n",
    "Add two methods:\n",
    "** Volume=pi*r2=(h/3)<br>\n",
    "** Surface Area:<br> \n",
    "base: pi*r2 <br>\n",
    "side: pi*r*sqrt(r2+h2)<br>\n",
    "Make only one class with functions,as in where required import Math.\n"
   ]
  },
  {
   "cell_type": "code",
   "execution_count": 1,
   "metadata": {},
   "outputs": [],
   "source": [
    "import math\n",
    "\n",
    "pi = math.pi\n",
    "\n",
    "class cone:\n",
    "    \n",
    "    def __init__(self,r,h): \n",
    "\n",
    "        self.r=r\n",
    "        \n",
    "        self.h=h\n",
    "        \n",
    "    def volume(self):\n",
    "        \n",
    "        result = (1 / 3) * pi * self.r * self.r * self.h\n",
    "        \n",
    "        print(\"\\nVolume Of Cone is :\",result)\n",
    "        \n",
    "    def surfacearea(self):\n",
    "        \n",
    "        result = pi * self.r * self.h + pi * self.r * self.r\n",
    "         \n",
    "        print(\"\\nSurface Area Of Cone is :\",result)"
   ]
  },
  {
   "cell_type": "code",
   "execution_count": 2,
   "metadata": {},
   "outputs": [
    {
     "name": "stdout",
     "output_type": "stream",
     "text": [
      "\n",
      "Enter the radius of cone : 34\n",
      "\n",
      "Enter the height of cone : 5\n",
      "\n",
      "Volume Of Cone is : 6052.801845916334\n",
      "\n",
      "Surface Area Of Cone is : 4165.751858660066\n"
     ]
    }
   ],
   "source": [
    "R = float(input(\"\\nEnter the radius of cone : \"))\n",
    "\n",
    "H = float(input(\"\\nEnter the height of cone : \"))\n",
    "\n",
    "c = cone( R, H)\n",
    "\n",
    "c.volume()\n",
    "\n",
    "c.surfacearea()"
   ]
  },
  {
   "cell_type": "code",
   "execution_count": null,
   "metadata": {},
   "outputs": [],
   "source": []
  }
 ],
 "metadata": {
  "kernelspec": {
   "display_name": "Python 3",
   "language": "python",
   "name": "python3"
  },
  "language_info": {
   "codemirror_mode": {
    "name": "ipython",
    "version": 3
   },
   "file_extension": ".py",
   "mimetype": "text/x-python",
   "name": "python",
   "nbconvert_exporter": "python",
   "pygments_lexer": "ipython3",
   "version": "3.7.7"
  }
 },
 "nbformat": 4,
 "nbformat_minor": 4
}
