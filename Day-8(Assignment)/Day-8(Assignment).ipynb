{
 "cells": [
  {
   "cell_type": "markdown",
   "metadata": {},
   "source": [
    "# Question-1:"
   ]
  },
  {
   "cell_type": "markdown",
   "metadata": {},
   "source": [
    "### Write a decorator function for your taking input for you any kind of function you want to build.<br>\n",
    "### For example:You make a fibnacci series function,in which your input range is been defined by the decorator prigram input."
   ]
  },
  {
   "cell_type": "code",
   "execution_count": 2,
   "metadata": {},
   "outputs": [],
   "source": [
    "# Decorator\n",
    "\n",
    "def getInput(calculate_arg_fun):    \n",
    "    def wrap_function():    \n",
    "        a = int(input(\"\\nEnter First Number: \"))        \n",
    "        b = int(input(\"\\nEnter Second Number: \"))        \n",
    "        calculate_arg_fun(a,b)       \n",
    "    return wrap_function"
   ]
  },
  {
   "cell_type": "code",
   "execution_count": 3,
   "metadata": {},
   "outputs": [],
   "source": [
    "# calling decorator for input\n",
    "\n",
    "@getInput\n",
    "def EvenFinder(start, last):    \n",
    "    print(\"\\nThe Even numbers in the range\",start,\"to\",last,\"is :\\n\")\n",
    "    for n in range(start, last + 1):       \n",
    "        if n % 2 == 0:             \n",
    "            print(n, end = \" \")"
   ]
  },
  {
   "cell_type": "code",
   "execution_count": 4,
   "metadata": {},
   "outputs": [
    {
     "name": "stdout",
     "output_type": "stream",
     "text": [
      "\n",
      "Enter First Number: 1\n",
      "\n",
      "Enter Second Number: 50\n",
      "\n",
      "The Even numbers in the range 1 to 50 is :\n",
      "\n",
      "2 4 6 8 10 12 14 16 18 20 22 24 26 28 30 32 34 36 38 40 42 44 46 48 50 "
     ]
    }
   ],
   "source": [
    "EvenFinder()"
   ]
  },
  {
   "cell_type": "markdown",
   "metadata": {},
   "source": [
    "# Question-2:"
   ]
  },
  {
   "cell_type": "markdown",
   "metadata": {},
   "source": [
    "### For this challenge you need to develop a python program to open a file in read only mode and try writing something to it and handle subsequent errors by using exceptional handling."
   ]
  },
  {
   "cell_type": "code",
   "execution_count": 18,
   "metadata": {},
   "outputs": [
    {
     "name": "stdout",
     "output_type": "stream",
     "text": [
      "Sorry!!! Unable to write in reading mode\n"
     ]
    }
   ],
   "source": [
    "try:\n",
    "    f = open(\"file.txt\", \"r\")\n",
    "    f.writelines(\"Hi!!!This is Sreya Sree Dokala,\") # Write a sequence of strings to a file\n",
    "except IOError:\n",
    "    print(\"Sorry!!! Unable to write in reading mode\")"
   ]
  },
  {
   "cell_type": "code",
   "execution_count": null,
   "metadata": {},
   "outputs": [],
   "source": []
  }
 ],
 "metadata": {
  "kernelspec": {
   "display_name": "Python 3",
   "language": "python",
   "name": "python3"
  },
  "language_info": {
   "codemirror_mode": {
    "name": "ipython",
    "version": 3
   },
   "file_extension": ".py",
   "mimetype": "text/x-python",
   "name": "python",
   "nbconvert_exporter": "python",
   "pygments_lexer": "ipython3",
   "version": "3.7.7"
  }
 },
 "nbformat": 4,
 "nbformat_minor": 4
}
