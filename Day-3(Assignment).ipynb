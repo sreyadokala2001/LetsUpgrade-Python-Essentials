{
 "cells": [
  {
   "cell_type": "markdown",
   "metadata": {},
   "source": [
    "# Question 1:"
   ]
  },
  {
   "cell_type": "markdown",
   "metadata": {},
   "source": [
    "### You all are Pilots,you want to land safely,so altitude required for landing a plane is 1000ft,if it is less than tell pilot to land the plane,or it is more than that but less than 5000ft ask the pilot to \"come down to 1000ft\",else if it is more than 5000ft ask the pilot to \"go around and try later\"."
   ]
  },
  {
   "cell_type": "markdown",
   "metadata": {},
   "source": [
    "#### Example:\n",
    " Input-1000<br>\n",
    " Output-Safe to Land<br>\n",
    " \n",
    " Input-4500<br>\n",
    " Output-Bring down to 1000<br>\n",
    " \n",
    " Input-6500<br>\n",
    " Output-Turn around\n",
    "                "
   ]
  },
  {
   "cell_type": "code",
   "execution_count": 1,
   "metadata": {},
   "outputs": [
    {
     "name": "stdout",
     "output_type": "stream",
     "text": [
      "Enter the altitude[feets]: 1005\n",
      "Come down to 1000ft!\n"
     ]
    }
   ],
   "source": [
    "altitude=int(input(\"Enter the altitude[feets]: \"))\n",
    "if altitude<=1000:\n",
    "    print(\"Safe to Land!\")\n",
    "elif altitude<=5000:\n",
    "    print(\"Come down to 1000ft!\")\n",
    "else:\n",
    "    print(\"Go around and try later!\")"
   ]
  },
  {
   "cell_type": "markdown",
   "metadata": {},
   "source": [
    "# Question 2:"
   ]
  },
  {
   "cell_type": "markdown",
   "metadata": {},
   "source": [
    "### Using for loop please print all the prime numbers between 1-200 using  <b>FOR LOOP AND RANGE</b> function. "
   ]
  },
  {
   "cell_type": "markdown",
   "metadata": {},
   "source": [
    "#### Expected Output:\n",
    "2,3,5,7,.................."
   ]
  },
  {
   "cell_type": "code",
   "execution_count": 8,
   "metadata": {},
   "outputs": [
    {
     "name": "stdout",
     "output_type": "stream",
     "text": [
      "2\n",
      "3\n",
      "5\n",
      "7\n",
      "11\n",
      "13\n",
      "17\n",
      "19\n",
      "23\n",
      "29\n",
      "31\n",
      "37\n",
      "41\n",
      "43\n",
      "47\n",
      "53\n",
      "59\n",
      "61\n",
      "67\n",
      "71\n",
      "73\n",
      "79\n",
      "83\n",
      "89\n",
      "97\n",
      "101\n",
      "103\n",
      "107\n",
      "109\n",
      "113\n",
      "127\n",
      "131\n",
      "137\n",
      "139\n",
      "149\n",
      "151\n",
      "157\n",
      "163\n",
      "167\n",
      "173\n",
      "179\n",
      "181\n",
      "191\n",
      "193\n",
      "197\n",
      "199\n"
     ]
    }
   ],
   "source": [
    "\n",
    "for i in range(1,200):  \n",
    "    if i > 1:  \n",
    "        for j in range(2,i):  \n",
    "            if (i % j) == 0:  \n",
    "                break  \n",
    "        else:  \n",
    "            print(i) "
   ]
  },
  {
   "cell_type": "code",
   "execution_count": null,
   "metadata": {
    "collapsed": true
   },
   "outputs": [],
   "source": []
  }
 ],
 "metadata": {
  "kernelspec": {
   "display_name": "Python 3",
   "language": "python",
   "name": "python3"
  },
  "language_info": {
   "codemirror_mode": {
    "name": "ipython",
    "version": 3
   },
   "file_extension": ".py",
   "mimetype": "text/x-python",
   "name": "python",
   "nbconvert_exporter": "python",
   "pygments_lexer": "ipython3",
   "version": "3.7.6"
  }
 },
 "nbformat": 4,
 "nbformat_minor": 2
}
